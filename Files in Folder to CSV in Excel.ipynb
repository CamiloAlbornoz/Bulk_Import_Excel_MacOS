{
 "metadata": {
  "language_info": {
   "codemirror_mode": {
    "name": "ipython",
    "version": 3
   },
   "file_extension": ".py",
   "mimetype": "text/x-python",
   "name": "python",
   "nbconvert_exporter": "python",
   "pygments_lexer": "ipython3",
   "version": "3.8.3-final"
  },
  "orig_nbformat": 2,
  "kernelspec": {
   "name": "python3",
   "display_name": "Python 3",
   "language": "python"
  }
 },
 "nbformat": 4,
 "nbformat_minor": 2,
 "cells": [
  {
   "cell_type": "code",
   "execution_count": 1,
   "metadata": {},
   "outputs": [],
   "source": [
    "#Made this script to itirate through files in a folder and join them in a dataframe\n",
    "#Only uses the first line from every file since this is what was needed\n",
    "#Used for importing files into excel for data visualization\n",
    "\n",
    "#Used in Immunohistochemistry project from pilot TSG-6 experiment. Iba1+/DAPI/GFAP\n",
    "#Data from QuPath full script\n",
    "\n",
    "import matplotlib\n",
    "import matplotlib.pyplot as plt\n",
    "import pandas as pd\n",
    "import numpy as np"
   ]
  },
  {
   "cell_type": "code",
   "execution_count": 95,
   "metadata": {},
   "outputs": [],
   "source": [
    "import glob\n",
    "\n",
    "path = r'/Users/camilo/Documents/10X Iba1 TSG-6 Pilot copy/Classifier' # use your path\n",
    "all_files = glob.glob(path + \"/*.txt\")\n",
    "\n",
    "li = []\n",
    "\n",
    "for filename in all_files:\n",
    "    df = pd.read_csv(filename,sep=\"\\t\", decimal=\".\", nrows=1, index_col=None)\n",
    "    li.append(df)\n",
    "\n",
    "frame = pd.concat(li, axis=0, ignore_index=True)"
   ]
  },
  {
   "cell_type": "code",
   "execution_count": 96,
   "metadata": {},
   "outputs": [
    {
     "output_type": "execute_result",
     "data": {
      "text/plain": [
       "(48, 23)"
      ]
     },
     "metadata": {},
     "execution_count": 96
    }
   ],
   "source": [
    "frame.shape"
   ]
  },
  {
   "cell_type": "code",
   "execution_count": 98,
   "metadata": {},
   "outputs": [],
   "source": [
    "out_path = \"/Users/camilo/Documents/10X Iba1 TSG-6 Pilot copy/temp-excel.xlsx\"\n",
    "frame.to_excel(out_path)"
   ]
  },
  {
   "cell_type": "code",
   "execution_count": null,
   "metadata": {},
   "outputs": [],
   "source": []
  }
 ]
}